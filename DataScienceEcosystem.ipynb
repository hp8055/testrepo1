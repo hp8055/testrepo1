{
 "cells": [
  {
   "cell_type": "markdown",
   "id": "92e68b5c-3dbd-4c58-a222-9e3f78f94a9e",
   "metadata": {},
   "source": [
    "# Data Science Tools and Ecosystem"
   ]
  },
  {
   "cell_type": "markdown",
   "id": "193e6e91-0310-411c-9be3-00915ea47856",
   "metadata": {},
   "source": [
    "In this notebook, we are going to study about Data Science Tools in detail."
   ]
  },
  {
   "cell_type": "markdown",
   "id": "9a3adbc1-1950-46c1-b274-f9d416f113ff",
   "metadata": {},
   "source": [
    "__Objectives:__\n",
    "- Data Science Languages.\n",
    "* Data Science Libraries.\n",
    "- Data Science Tools.\n",
    "* Evaluate Arithemetic Expression using Python\n"
   ]
  },
  {
   "cell_type": "markdown",
   "id": "a7ad2b46-c44e-444a-a071-caa2aecdb2d1",
   "metadata": {},
   "source": [
    "Data Science Languages are:-\n",
    "1. Python\n",
    "2. R\n",
    "3. SQL\n",
    "4. Java\n",
    "5. Julia\n"
   ]
  },
  {
   "cell_type": "markdown",
   "id": "1f0d896a-5303-4189-989c-058db0c4ccaa",
   "metadata": {},
   "source": [
    "Data Science Libraries:-\n",
    "1. TensorFlow\n",
    "2. NumPy\n",
    "3. SciPy \n",
    "4. Pandas\n",
    "5. Matplotlib \n"
   ]
  },
  {
   "cell_type": "markdown",
   "id": "e2247a4d-0094-4bc1-bba6-f91fc699e33f",
   "metadata": {},
   "source": [
    "                                                    Data Science Tools\n",
    "| 1. Apache Spark | 2. D3.js |3.IBM SPSS |\n",
    "| --- | --- | --- |\n",
    "| 4.Julia | 5. Keras | 6.NumPy |"
   ]
  },
  {
   "cell_type": "markdown",
   "id": "0bed2ebb-1e26-434f-a0e1-b5ce601f2e6d",
   "metadata": {},
   "source": [
    "### Below are a few examples of evaluating arithmetic expressions in Python"
   ]
  },
  {
   "cell_type": "code",
   "execution_count": 3,
   "id": "9eea4ab4-76b7-4ac4-9b38-6fc869a7609c",
   "metadata": {},
   "outputs": [
    {
     "data": {
      "text/plain": [
       "14"
      ]
     },
     "execution_count": 3,
     "metadata": {},
     "output_type": "execute_result"
    }
   ],
   "source": [
    " # This a simple arithmetic expression to mutiply then add integers\n",
    "(3*3)+5"
   ]
  },
  {
   "cell_type": "code",
   "execution_count": 4,
   "id": "407148b5-7ed2-4e90-8fcf-6c1e5663ab5a",
   "metadata": {},
   "outputs": [
    {
     "data": {
      "text/plain": [
       "5.0"
      ]
     },
     "execution_count": 4,
     "metadata": {},
     "output_type": "execute_result"
    }
   ],
   "source": [
    "# This will convert 300 minutes to hours by diving by 60\n",
    "\n",
    "300/60"
   ]
  },
  {
   "cell_type": "markdown",
   "id": "f022aca2-6110-4c4f-8ffd-75f769fb2262",
   "metadata": {},
   "source": [
    "## Author\n",
    "Hrishikesh Pai \n"
   ]
  },
  {
   "cell_type": "code",
   "execution_count": null,
   "id": "5d4b9490-9a4d-4aa1-8fe0-b836ba95df60",
   "metadata": {},
   "outputs": [],
   "source": []
  }
 ],
 "metadata": {
  "kernelspec": {
   "display_name": "Python",
   "language": "python",
   "name": "conda-env-python-py"
  },
  "language_info": {
   "codemirror_mode": {
    "name": "ipython",
    "version": 3
   },
   "file_extension": ".py",
   "mimetype": "text/x-python",
   "name": "python",
   "nbconvert_exporter": "python",
   "pygments_lexer": "ipython3",
   "version": "3.7.12"
  }
 },
 "nbformat": 4,
 "nbformat_minor": 5
}
